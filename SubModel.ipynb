{
 "cells": [
  {
   "cell_type": "code",
   "execution_count": null,
   "metadata": {},
   "outputs": [],
   "source": [
    "# We import libraries to be used below \n",
    "\n",
    "# NumPy and matplotlib libraries\n",
    "import numpy as np   \n",
    "import matplotlib.pyplot as plt\n",
    "%matplotlib inline\n",
    "\n",
    "# From Mesa library\n",
    "# We import Model, Agent, time, space and datacollection\n",
    "\n",
    "from mesa import Model, Agent   \n",
    "from mesa.time import RandomActivation  # Time module\n",
    "from mesa.space import SingleGrid       # Space module\n",
    "from mesa.datacollection import DataCollector  # Datacollection module\n",
    "\n",
    "import random\n",
    "from collections import defaultdict\n",
    "\n",
    "import holoview\n"
   ]
  },
  {
   "cell_type": "code",
   "execution_count": null,
   "metadata": {},
   "outputs": [],
   "source": []
  },
  {
   "cell_type": "code",
   "execution_count": null,
   "metadata": {},
   "outputs": [],
   "source": []
  }
 ],
 "metadata": {
  "language_info": {
   "name": "python"
  }
 },
 "nbformat": 4,
 "nbformat_minor": 2
}
