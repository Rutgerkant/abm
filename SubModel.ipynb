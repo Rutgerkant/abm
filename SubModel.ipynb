{
 "cells": [
  {
   "cell_type": "code",
   "execution_count": 1,
   "metadata": {},
   "outputs": [],
   "source": [
    "import numpy as np"
   ]
  },
  {
   "cell_type": "code",
   "execution_count": 2,
   "metadata": {},
   "outputs": [
    {
     "name": "stderr",
     "output_type": "stream",
     "text": [
      "/Users/michielvanhouten/Dropbox/Mac/Documents/GitHub/blabla/SysMod4ABM/.venv/lib/python3.9/site-packages/mesa/time.py:82: FutureWarning: The AgentSet is experimental. It may be changed or removed in any and all future releases, including patch releases.\n",
      "We would love to hear what you think about this new feature. If you have any thoughts, share them with us here: https://github.com/projectmesa/mesa/discussions/1919\n",
      "  self._agents: AgentSet = AgentSet(agents, model)\n"
     ]
    }
   ],
   "source": [
    "from SubsidieModel import SubsidieModel\n",
    "\n",
    "model1 = SubsidieModel()"
   ]
  },
  {
   "cell_type": "code",
   "execution_count": 3,
   "metadata": {},
   "outputs": [
    {
     "name": "stdout",
     "output_type": "stream",
     "text": [
      "Agent Type at position ( 0 , 0 ): TypeAdopter.LATE_MAJORITY\n"
     ]
    }
   ],
   "source": [
    "x, y = 0, 0 # Example position, you can change it to any position\n",
    "agent_at_position = model1.grid.get_cell_list_contents((x, y))\n",
    "if agent_at_position:\n",
    "    print(\"Agent Type at position (\", x, \",\", y, \"):\", agent_at_position[0].agent_type)\n",
    "else:\n",
    "    print(\"No agent at position (\", x, \",\", y, \")\")"
   ]
  },
  {
   "cell_type": "code",
   "execution_count": 4,
   "metadata": {},
   "outputs": [],
   "source": [
    "for x in range(50):\n",
    "    for y in range(50):\n",
    "        if model1.grid.is_cell_empty((x, y)):\n",
    "            print(\"Cel op positie (\", x, \",\", y, \") is leeg.\")"
   ]
  },
  {
   "cell_type": "code",
   "execution_count": 5,
   "metadata": {},
   "outputs": [
    {
     "name": "stdout",
     "output_type": "stream",
     "text": [
      "63\n",
      "338\n",
      "851\n",
      "847\n",
      "401\n",
      "2500\n"
     ]
    }
   ],
   "source": [
    "from SubsidieModel import count_type, TypeAdopter\n",
    "\n",
    "\n",
    "a = count_type(model1, TypeAdopter.INNOVATOR)\n",
    "print(a)\n",
    "b = count_type(model1, TypeAdopter.EARLY_ADOPTER)\n",
    "print(b)\n",
    "c = count_type(model1, TypeAdopter.EARLY_MAJORITY)\n",
    "print(c)\n",
    "d = count_type(model1, TypeAdopter.LATE_MAJORITY)\n",
    "print(d)\n",
    "e = count_type(model1, TypeAdopter.LAGGARDS)\n",
    "print(e)\n",
    "\n",
    "total = a+b+c+d+e\n",
    "print(total)"
   ]
  },
  {
   "cell_type": "code",
   "execution_count": 6,
   "metadata": {},
   "outputs": [
    {
     "name": "stdout",
     "output_type": "stream",
     "text": [
      "    Gemiddelde belangstelling  Aantal gekochte EV\n",
      "0                    0.631964                 920\n",
      "1                    0.632101                 920\n",
      "2                    0.632238                 921\n",
      "3                    0.632375                 922\n",
      "4                    0.632512                 922\n",
      "..                        ...                 ...\n",
      "95                   0.644978                 993\n",
      "96                   0.645115                 994\n",
      "97                   0.645252                 994\n",
      "98                   0.645389                 995\n",
      "99                   0.645526                 995\n",
      "\n",
      "[100 rows x 2 columns]\n"
     ]
    }
   ],
   "source": [
    "# Voer het model uit voor een bepaald aantal stappen\n",
    "for i in range(100):\n",
    "    model1.step()\n",
    "\n",
    "# Haal de gegevens op van de datacollector\n",
    "model_data = model1.datacollector.get_model_vars_dataframe()\n",
    "\n",
    "# Toon de gegevens\n",
    "print(model_data)\n"
   ]
  },
  {
   "cell_type": "code",
   "execution_count": 7,
   "metadata": {},
   "outputs": [
    {
     "name": "stdout",
     "output_type": "stream",
     "text": [
      "                   Type Agent  Belangstelling  leeftijd auto\n",
      "Step AgentID                                                \n",
      "1    (6, 13)         LAGGARDS        0.482603           1333\n",
      "     (7, 27)    LATE_MAJORITY        0.751233           2929\n",
      "     (38, 27)   LATE_MAJORITY        0.458493            792\n",
      "     (40, 8)   EARLY_MAJORITY        0.683973           2073\n",
      "     (33, 40)  EARLY_MAJORITY        0.534932            985\n",
      "...                       ...             ...            ...\n",
      "100  (14, 30)   LATE_MAJORITY        0.368219            133\n",
      "     (47, 15)   LATE_MAJORITY        0.810000           3358\n",
      "     (39, 7)    LATE_MAJORITY        0.810274           3360\n",
      "     (49, 47)   LATE_MAJORITY        0.455616            771\n",
      "     (38, 4)    LATE_MAJORITY        0.397397            346\n",
      "\n",
      "[250000 rows x 3 columns]\n"
     ]
    }
   ],
   "source": [
    "agent_data = model1.datacollector.get_agent_vars_dataframe()\n",
    "\n",
    "print(agent_data)"
   ]
  },
  {
   "cell_type": "code",
   "execution_count": 8,
   "metadata": {},
   "outputs": [
    {
     "ename": "ModuleNotFoundError",
     "evalue": "No module named 'holoviews'",
     "output_type": "error",
     "traceback": [
      "\u001b[0;31m---------------------------------------------------------------------------\u001b[0m",
      "\u001b[0;31mModuleNotFoundError\u001b[0m                       Traceback (most recent call last)",
      "Cell \u001b[0;32mIn[8], line 1\u001b[0m\n\u001b[0;32m----> 1\u001b[0m \u001b[38;5;28;01mimport\u001b[39;00m \u001b[38;5;21;01mholoviews\u001b[39;00m \u001b[38;5;28;01mas\u001b[39;00m \u001b[38;5;21;01mhv\u001b[39;00m\n\u001b[1;32m      2\u001b[0m \u001b[38;5;28;01mfrom\u001b[39;00m \u001b[38;5;21;01mcollections\u001b[39;00m \u001b[38;5;28;01mimport\u001b[39;00m defaultdict\n\u001b[1;32m      4\u001b[0m hv\u001b[38;5;241m.\u001b[39mextension(\u001b[38;5;124m'\u001b[39m\u001b[38;5;124mbokeh\u001b[39m\u001b[38;5;124m'\u001b[39m)\n",
      "\u001b[0;31mModuleNotFoundError\u001b[0m: No module named 'holoviews'"
     ]
    }
   ],
   "source": [
    "\n",
    "import holoviews as hv\n",
    "from collections import defaultdict\n",
    "\n",
    "hv.extension('bokeh')\n",
    "\n",
    "for i in range(10):\n",
    "    model1.step()\n",
    "\n",
    "model_data = model1.datacollector.get_model_vars_dataframe()\n",
    "\n",
    "print(model_data)\n",
    "\n",
    "\n",
    "\n",
    "\n",
    "\n",
    "def value(cell):\n",
    "    if cell.belangstelling  < 0.8: return 15  \n",
    "    elif cell.belangstelling > 0.8 and cell.belangstelling < 0.9: return 20\n",
    "    elif cell.belangstelling > 0.9 : return 5\n",
    "\n",
    "hmap = hv.HoloMap()  # draws the holoviews grid\n",
    "\n",
    "# Genereer de gegevens voor de rasterplot\n",
    "grid_data = np.zeros((model1.width, model1.height))  # Matrix om de belangstelling voor elke cel op te slaan\n",
    "for content, row_index, col_index in model1.grid.coord_iter():\n",
    "    grid_data[col_index, row_index] = content.belangstelling  # Sla de belangstelling van de cel op\n",
    "\n",
    "# Definieer het HoloViews-beeld\n",
    "hv_image = hv.Image(grid_data)\n",
    "\n",
    "# Pas de plot aan\n",
    "hv_image.opts(cmap='Viridis', width=500, height=500, colorbar=True, tools=['hover'], xlabel='Column', ylabel='Row', title='Interest Distribution')\n",
    "\n",
    "# Toon de plot\n",
    "hv_image\n",
    "\n"
   ]
  }
 ],
 "metadata": {
  "kernelspec": {
   "display_name": "base",
   "language": "python",
   "name": "python3"
  },
  "language_info": {
   "codemirror_mode": {
    "name": "ipython",
    "version": 3
   },
   "file_extension": ".py",
   "mimetype": "text/x-python",
   "name": "python",
   "nbconvert_exporter": "python",
   "pygments_lexer": "ipython3",
   "version": "3.9.13"
  }
 },
 "nbformat": 4,
 "nbformat_minor": 2
}
