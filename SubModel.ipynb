{
 "cells": [
  {
   "cell_type": "code",
   "execution_count": 1,
   "metadata": {},
   "outputs": [
    {
     "name": "stderr",
     "output_type": "stream",
     "text": [
      "/Users/michielvanhouten/Dropbox/Mac/Documents/GitHub/abm/.venv/lib/python3.9/site-packages/mesa/time.py:82: FutureWarning: The AgentSet is experimental. It may be changed or removed in any and all future releases, including patch releases.\n",
      "We would love to hear what you think about this new feature. If you have any thoughts, share them with us here: https://github.com/projectmesa/mesa/discussions/1919\n",
      "  self._agents: AgentSet = AgentSet(agents, model)\n"
     ]
    }
   ],
   "source": [
    "import numpy as np\n",
    "\n",
    "from SubsidieModel import SubsidieModel\n",
    "\n",
    "model1 = SubsidieModel()"
   ]
  },
  {
   "cell_type": "code",
   "execution_count": null,
   "metadata": {},
   "outputs": [],
   "source": []
  },
  {
   "cell_type": "code",
   "execution_count": null,
   "metadata": {},
   "outputs": [],
   "source": []
  },
  {
   "cell_type": "code",
   "execution_count": 2,
   "metadata": {},
   "outputs": [
    {
     "name": "stdout",
     "output_type": "stream",
     "text": [
      "Agent Type at position ( 0 , 0 ): TypeAdopter.LAGGARDS\n"
     ]
    }
   ],
   "source": [
    "x, y = 0, 0 # Example position, you can change it to any position\n",
    "agent_at_position = model1.grid.get_cell_list_contents((x, y))\n",
    "if agent_at_position:\n",
    "    print(\"Agent Type at position (\", x, \",\", y, \"):\", agent_at_position[0].agent_type)\n",
    "else:\n",
    "    print(\"No agent at position (\", x, \",\", y, \")\")"
   ]
  },
  {
   "cell_type": "code",
   "execution_count": 3,
   "metadata": {},
   "outputs": [],
   "source": [
    "for x in range(50):\n",
    "    for y in range(50):\n",
    "        if model1.grid.is_cell_empty((x, y)):\n",
    "            print(\"Cel op positie (\", x, \",\", y, \") is leeg.\")"
   ]
  },
  {
   "cell_type": "code",
   "execution_count": 4,
   "metadata": {},
   "outputs": [
    {
     "name": "stdout",
     "output_type": "stream",
     "text": [
      "63\n",
      "338\n",
      "847\n",
      "851\n",
      "401\n",
      "2500\n"
     ]
    }
   ],
   "source": [
    "from SubsidieModel import count_type, TypeAdopter\n",
    "\n",
    "\n",
    "a = count_type(model1, TypeAdopter.INNOVATOR)\n",
    "print(a)\n",
    "b = count_type(model1, TypeAdopter.EARLY_ADOPTER)\n",
    "print(b)\n",
    "c = count_type(model1, TypeAdopter.EARLY_MAJORITY)\n",
    "print(c)\n",
    "d = count_type(model1, TypeAdopter.LATE_MAJORITY)\n",
    "print(d)\n",
    "e = count_type(model1, TypeAdopter.LAGGARDS)\n",
    "print(e)\n",
    "\n",
    "total = a+b+c+d+e\n",
    "print(total)"
   ]
  },
  {
   "cell_type": "code",
   "execution_count": 5,
   "metadata": {},
   "outputs": [
    {
     "name": "stdout",
     "output_type": "stream",
     "text": [
      "    Gemiddelde belangstelling  Aantal gekochte EV  Aantal gekochte FBA  \\\n",
      "0                    0.460852                 353                   93   \n",
      "1                    0.453975                 536                  129   \n",
      "2                    0.455587                 633                  147   \n",
      "3                    0.458767                 691                  153   \n",
      "4                    0.462710                 728                  164   \n",
      "..                        ...                 ...                  ...   \n",
      "95                   0.807413                1967                  525   \n",
      "96                   0.811377                1969                  527   \n",
      "97                   0.815340                1972                  528   \n",
      "98                   0.819405                1974                  528   \n",
      "99                   0.823572                1974                  530   \n",
      "\n",
      "    Percentage huishoudens in bezit auto  \n",
      "0                                 0.7400  \n",
      "1                                 0.7480  \n",
      "2                                 0.7524  \n",
      "3                                 0.7544  \n",
      "4                                 0.7584  \n",
      "..                                   ...  \n",
      "95                                0.9732  \n",
      "96                                0.9740  \n",
      "97                                0.9752  \n",
      "98                                0.9760  \n",
      "99                                0.9760  \n",
      "\n",
      "[100 rows x 4 columns]\n"
     ]
    }
   ],
   "source": [
    "# Voer het model uit voor een bepaald aantal stappen\n",
    "for i in range(100):\n",
    "    model1.step()\n",
    "\n",
    "# Haal de gegevens op van de datacollector\n",
    "model_data = model1.datacollector.get_model_vars_dataframe()\n",
    "\n",
    "# Toon de gegevens\n",
    "print(model_data)\n"
   ]
  },
  {
   "cell_type": "code",
   "execution_count": 6,
   "metadata": {},
   "outputs": [
    {
     "name": "stdout",
     "output_type": "stream",
     "text": [
      "                   Type Agent  Belangstelling  leeftijd auto\n",
      "Step AgentID                                                \n",
      "1    (38, 36)   LATE_MAJORITY        0.662500             99\n",
      "     (9, 3)     EARLY_ADOPTER        0.658333             74\n",
      "     (46, 8)    LATE_MAJORITY        0.591667             82\n",
      "     (20, 7)         LAGGARDS        0.204167              1\n",
      "     (13, 27)   EARLY_ADOPTER        0.354167              1\n",
      "...                       ...             ...            ...\n",
      "100  (4, 34)    EARLY_ADOPTER        0.766667            100\n",
      "     (21, 5)    LATE_MAJORITY        1.075000            198\n",
      "     (17, 23)   EARLY_ADOPTER        0.766667            100\n",
      "     (26, 33)   LATE_MAJORITY        0.408333             38\n",
      "     (46, 14)  EARLY_MAJORITY        1.154167            205\n",
      "\n",
      "[250000 rows x 3 columns]\n"
     ]
    }
   ],
   "source": [
    "agent_data = model1.datacollector.get_agent_vars_dataframe()\n",
    "\n",
    "print(agent_data)"
   ]
  },
  {
   "cell_type": "code",
   "execution_count": 7,
   "metadata": {},
   "outputs": [
    {
     "ename": "ModuleNotFoundError",
     "evalue": "No module named 'holoviews'",
     "output_type": "error",
     "traceback": [
      "\u001b[0;31m---------------------------------------------------------------------------\u001b[0m",
      "\u001b[0;31mModuleNotFoundError\u001b[0m                       Traceback (most recent call last)",
      "Cell \u001b[0;32mIn[7], line 1\u001b[0m\n\u001b[0;32m----> 1\u001b[0m \u001b[38;5;28;01mimport\u001b[39;00m \u001b[38;5;21;01mholoviews\u001b[39;00m \u001b[38;5;28;01mas\u001b[39;00m \u001b[38;5;21;01mhv\u001b[39;00m\n\u001b[1;32m      2\u001b[0m \u001b[38;5;28;01mfrom\u001b[39;00m \u001b[38;5;21;01mcollections\u001b[39;00m \u001b[38;5;28;01mimport\u001b[39;00m defaultdict\n\u001b[1;32m      4\u001b[0m hv\u001b[38;5;241m.\u001b[39mextension(\u001b[38;5;124m'\u001b[39m\u001b[38;5;124mbokeh\u001b[39m\u001b[38;5;124m'\u001b[39m)\n",
      "\u001b[0;31mModuleNotFoundError\u001b[0m: No module named 'holoviews'"
     ]
    }
   ],
   "source": [
    "\n",
    "import holoviews as hv\n",
    "from collections import defaultdict\n",
    "\n",
    "hv.extension('bokeh')\n",
    "\n",
    "for i in range(10):\n",
    "    model1.step()\n",
    "\n",
    "model_data = model1.datacollector.get_model_vars_dataframe()\n",
    "\n",
    "print(model_data)\n",
    "\n",
    "\n",
    "\n",
    "\n",
    "\n",
    "def value(cell):\n",
    "    if cell.belangstelling  < 0.8: return 15  \n",
    "    elif cell.belangstelling > 0.8 and cell.belangstelling < 0.9: return 20\n",
    "    elif cell.belangstelling > 0.9 : return 5\n",
    "\n",
    "hmap = hv.HoloMap()  # draws the holoviews grid\n",
    "\n",
    "for i in range(100):   \n",
    "    model1.step()   # This will run the model for one step. Because of the for loop, the model will run for 100 steps in total!!!!!\n",
    "    # Note: It is not a big problem if you don't completely understand the next few lines since these concern the holoviews library\n",
    "    grid_dict = defaultdict(list)\n",
    "    for content, row_index, col_index in model1.grid.coord_iter():\n",
    "        grid_dict[row_index] += [content]  \n",
    "    data = np.array([[value(c) for c in row] for row in grid_dict.values()])\n",
    "    data = np.transpose(data)\n",
    "    data = np.flip(data, axis=0)\n",
    "    bounds=(0,0,5,5)   # Coordinate system: (left, bottom, right, top)\n",
    "    hmap[i] = hv.Image(data, vdims=[hv.Dimension('a', range=(0,21))],bounds=bounds).relabel('Grid').opts(cmap='Viridis',xticks=[0],yticks=[0])\n",
    "    # holoviews comes with different colormaps (cmap). In this case, we are using the colormap Viridis, which has a color scheme between blue and yellow.\n",
    "hmap\n",
    "\n",
    "\n"
   ]
  },
  {
   "cell_type": "code",
   "execution_count": null,
   "metadata": {},
   "outputs": [
    {
     "data": {
      "image/png": "[encoded data removed]",
      "text/plain": [
       "<Figure size 640x480 with 1 Axes>"
      ]
     },
     "metadata": {},
     "output_type": "display_data"
    }
   ],
   "source": [
    "import matplotlib.pyplot as plt\n",
    "import numpy as np\n",
    "\n",
    "# Assuming model_data is defined somewhere earlier in your code\n",
    "# Haal het aantal gekochte EV's uit de modelgegevens\n",
    "aantal_gekochte_evs = model_data['Aantal gekochte EV'].tolist()\n",
    "\n",
    "y = aantal_gekochte_evs\n",
    "# Maak een array voor de tijd (stappen)\n",
    "x = np.arange(len(aantal_gekochte_evs))\n",
    "\n",
    "# Plot\n",
    "fig, ax = plt.subplots()\n",
    "\n",
    "# Plot het aantal gekochte EV's in de loop van de tijd\n",
    "ax.plot(x, aantal_gekochte_evs, linewidth=2.0, color='blue')  # Use x as time steps\n",
    "\n",
    "ax.set_xlabel('Tijd')\n",
    "ax.set_ylabel('Aantal gekochte EVs')\n",
    "ax.set_title('Aantal gekochte EVs in de loop van de tijd')\n",
    "\n",
    "plt.show()\n"
   ]
  }
 ],
 "metadata": {
  "kernelspec": {
   "display_name": "base",
   "language": "python",
   "name": "python3"
  },
  "language_info": {
   "codemirror_mode": {
    "name": "ipython",
    "version": 3
   },
   "file_extension": ".py",
   "mimetype": "text/x-python",
   "name": "python",
   "nbconvert_exporter": "python",
   "pygments_lexer": "ipython3",
   "version": "3.9.13"
  }
 },
 "nbformat": 4,
 "nbformat_minor": 2
}
