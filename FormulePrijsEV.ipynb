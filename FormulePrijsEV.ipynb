{
 "cells": [
  {
   "cell_type": "code",
   "execution_count": 1,
   "metadata": {},
   "outputs": [
    {
     "ename": "ModuleNotFoundError",
     "evalue": "No module named 'scipy'",
     "output_type": "error",
     "traceback": [
      "\u001b[0;31m---------------------------------------------------------------------------\u001b[0m",
      "\u001b[0;31mModuleNotFoundError\u001b[0m                       Traceback (most recent call last)",
      "Cell \u001b[0;32mIn[1], line 2\u001b[0m\n\u001b[1;32m      1\u001b[0m \u001b[38;5;28;01mimport\u001b[39;00m \u001b[38;5;21;01mnumpy\u001b[39;00m \u001b[38;5;28;01mas\u001b[39;00m \u001b[38;5;21;01mnp\u001b[39;00m\n\u001b[0;32m----> 2\u001b[0m \u001b[38;5;28;01mfrom\u001b[39;00m \u001b[38;5;21;01mscipy\u001b[39;00m\u001b[38;5;21;01m.\u001b[39;00m\u001b[38;5;21;01mstats\u001b[39;00m \u001b[38;5;28;01mimport\u001b[39;00m linregress\n\u001b[1;32m      4\u001b[0m \u001b[38;5;66;03m# Gegeven punten\u001b[39;00m\n\u001b[1;32m      5\u001b[0m points \u001b[38;5;241m=\u001b[39m np\u001b[38;5;241m.\u001b[39marray([[\u001b[38;5;241m0\u001b[39m, \u001b[38;5;241m61\u001b[39m], [\u001b[38;5;241m1\u001b[39m, \u001b[38;5;241m56\u001b[39m], [\u001b[38;5;241m2\u001b[39m, \u001b[38;5;241m51\u001b[39m], [\u001b[38;5;241m3\u001b[39m, \u001b[38;5;241m48\u001b[39m], [\u001b[38;5;241m4\u001b[39m, \u001b[38;5;241m41\u001b[39m], [\u001b[38;5;241m20\u001b[39m, \u001b[38;5;241m20\u001b[39m]])\n",
      "\u001b[0;31mModuleNotFoundError\u001b[0m: No module named 'scipy'"
     ]
    }
   ],
   "source": [
    "\n",
    "import numpy as np\n",
    "from scipy.stats import linregress\n",
    "\n",
    "# Gegeven punten\n",
    "points = np.array([[0, 61], [1, 56], [2, 51], [3, 48], [4, 41], [20, 20]])\n",
    "\n",
    "# Bereken de logaritme van y-waarden\n",
    "log_y = np.log(points[:, 1])\n",
    "\n",
    "# Voer lineaire regressie uit op de logaritmische waarden\n",
    "slope, intercept, _, _, _ = linregress(points[:, 0], log_y)\n",
    "\n",
    "# Vergelijking van de lineaire regressie\n",
    "equation = f\"y = {np.exp(intercept):.2f} * e^({slope:.2f} * x)\"\n",
    "\n",
    "print(\"Logaritmische vergelijking:\")\n",
    "print(equation)\n"
   ]
  }
 ],
 "metadata": {
  "kernelspec": {
   "display_name": ".venv",
   "language": "python",
   "name": "python3"
  },
  "language_info": {
   "codemirror_mode": {
    "name": "ipython",
    "version": 3
   },
   "file_extension": ".py",
   "mimetype": "text/x-python",
   "name": "python",
   "nbconvert_exporter": "python",
   "pygments_lexer": "ipython3",
   "version": "3.9.13"
  }
 },
 "nbformat": 4,
 "nbformat_minor": 2
}
